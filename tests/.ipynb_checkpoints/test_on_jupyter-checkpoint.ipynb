{
 "cells": [
  {
   "cell_type": "code",
   "execution_count": 10,
   "id": "b5c11843-3f5a-4090-84e0-6b3d3009f539",
   "metadata": {},
   "outputs": [],
   "source": [
    "import logging\n",
    "\n",
    "import pytest\n",
    "import torch\n",
    "from torch.utils.data import Dataset\n",
    "from dry_torch import Trainer\n",
    "from dry_torch import StandardLoader\n",
    "from dry_torch import Experiment\n",
    "from dry_torch import ModelOptimizer\n",
    "from dry_torch import CheckpointIO\n",
    "from dry_torch import LossAndMetricsCalculator\n",
    "from dry_torch import exceptions\n",
    "from dry_torch import default_logging\n"
   ]
  },
  {
   "cell_type": "code",
   "execution_count": null,
   "id": "13e5b3e6-1fe8-41d5-8d15-f3c3cab70bf4",
   "metadata": {},
   "outputs": [],
   "source": []
  },
  {
   "cell_type": "code",
   "execution_count": 11,
   "id": "4f6a7027-7773-4232-83bf-8780a9498e96",
   "metadata": {},
   "outputs": [],
   "source": [
    "class IndexDataset(Dataset[tuple[torch.Tensor, torch.Tensor]]):\n",
    "\n",
    "    def __getitem__(self, index: int) -> tuple[torch.Tensor, torch.Tensor]:\n",
    "        return torch.Tensor([index]), torch.Tensor([index])\n",
    "\n",
    "    def __len__(self) -> int:\n",
    "        return 1600"
   ]
  },
  {
   "cell_type": "code",
   "execution_count": 12,
   "id": "3a6dc4c7-f211-4911-b9e4-f8881c56cd4a",
   "metadata": {},
   "outputs": [],
   "source": [
    "class Linear(torch.nn.Module):\n",
    "\n",
    "    def __init__(self, in_features: int, out_features: int):\n",
    "        super().__init__()\n",
    "        self.linear = torch.nn.Linear(in_features, out_features)\n",
    "\n",
    "    def forward(self, inputs: torch.Tensor) -> torch.Tensor:\n",
    "        return self.linear(inputs)"
   ]
  },
  {
   "cell_type": "code",
   "execution_count": 13,
   "id": "56c131aa-6371-40af-95b1-0870fa4a639a",
   "metadata": {},
   "outputs": [],
   "source": [
    "def simple_fun(tensor: torch.Tensor, second: torch.Tensor) -> torch.Tensor:\n",
    "    return tensor + second"
   ]
  },
  {
   "cell_type": "code",
   "execution_count": 14,
   "id": "b8ed10aa-d643-43e2-ab9b-edbba189cc30",
   "metadata": {},
   "outputs": [
    {
     "name": "stdout",
     "output_type": "stream",
     "text": [
      "2024-05-27 21:00:43,674\n",
      "Training cloned_model.\n",
      "2024-05-27 21:00:44,088\n",
      "End of training\n"
     ]
    }
   ],
   "source": [
    "Experiment('test_simple_training', config={'answer': 42}).run()\n",
    "exp_pardir = 'test_experiments'\n",
    "model = Linear(1, 1)\n",
    "model_opt = ModelOptimizer(model)\n",
    "cloned_model_opt = model_opt.clone('cloned_model')\n",
    "checkpoint = CheckpointIO(model_opt, exp_pardir=exp_pardir)\n",
    "loss_calc = LossAndMetricsCalculator(simple_fun)\n",
    "dataset = IndexDataset()\n",
    "loader = StandardLoader(dataset=dataset, batch_size=4)\n",
    "trainer = Trainer(cloned_model_opt, loss_calc=loss_calc, loader=loader)\n",
    "trainer.train(2)\n",
    "checkpoint.save()\n",
    "\n"
   ]
  },
  {
   "cell_type": "code",
   "execution_count": 6,
   "id": "74f7336d-5d33-4481-9c70-637be1ad7326",
   "metadata": {},
   "outputs": [],
   "source": [
    "logger = logging.getLogger('dry_torch')\n",
    "logger.setLevel(25)"
   ]
  },
  {
   "cell_type": "code",
   "execution_count": null,
   "id": "4a773e49-efe5-4219-a0fc-5ac2c56c7090",
   "metadata": {},
   "outputs": [],
   "source": []
  }
 ],
 "metadata": {
  "kernelspec": {
   "display_name": "Python 3 (ipykernel)",
   "language": "python",
   "name": "python3"
  },
  "language_info": {
   "codemirror_mode": {
    "name": "ipython",
    "version": 3
   },
   "file_extension": ".py",
   "mimetype": "text/x-python",
   "name": "python",
   "nbconvert_exporter": "python",
   "pygments_lexer": "ipython3",
   "version": "3.11.9"
  }
 },
 "nbformat": 4,
 "nbformat_minor": 5
}
